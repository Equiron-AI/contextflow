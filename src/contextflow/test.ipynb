{
 "cells": [
  {
   "cell_type": "code",
   "execution_count": 2,
   "id": "0b59130f-a578-48d6-b8df-5e53eade04ff",
   "metadata": {
    "execution": {
     "iopub.execute_input": "2025-03-08T17:51:26.997458Z",
     "iopub.status.busy": "2025-03-08T17:51:26.996839Z",
     "iopub.status.idle": "2025-03-08T17:51:27.497983Z",
     "shell.execute_reply": "2025-03-08T17:51:27.497292Z",
     "shell.execute_reply.started": "2025-03-08T17:51:26.997432Z"
    }
   },
   "outputs": [
    {
     "name": "stdout",
     "output_type": "stream",
     "text": [
      "{'input_ids': [151668], 'attention_mask': [1]}\n"
     ]
    }
   ],
   "source": [
    "from transformers import AutoTokenizer, AutoConfig\n",
    "\n",
    "\n",
    "model_id = \"Qwen/QwQ-32B\"\n",
    "tokenizer = AutoTokenizer.from_pretrained(model_id, add_bos_token=False)\n",
    "\n",
    "print(tokenizer(\"</think>\"))\n"
   ]
  },
  {
   "cell_type": "code",
   "execution_count": 1,
   "id": "61110e7b-a372-4482-b586-e7ac3e804cf8",
   "metadata": {
    "execution": {
     "iopub.execute_input": "2025-03-17T19:27:26.033200Z",
     "iopub.status.busy": "2025-03-17T19:27:26.032648Z",
     "iopub.status.idle": "2025-03-17T19:27:30.176355Z",
     "shell.execute_reply": "2025-03-17T19:27:30.175558Z",
     "shell.execute_reply.started": "2025-03-17T19:27:26.033152Z"
    }
   },
   "outputs": [
    {
     "name": "stderr",
     "output_type": "stream",
     "text": [
      "/home/man4j/.conda/envs/tuningtron-gpu/lib/python3.11/site-packages/tqdm/auto.py:21: TqdmWarning: IProgress not found. Please update jupyter and ipywidgets. See https://ipywidgets.readthedocs.io/en/stable/user_install.html\n",
      "  from .autonotebook import tqdm as notebook_tqdm\n"
     ]
    },
    {
     "name": "stdout",
     "output_type": "stream",
     "text": [
      "<bos><start_of_turn>user\n",
      "prompt\n",
      "\n",
      "qwe<end_of_turn>\n",
      "<start_of_turn>model\n",
      "zxc<end_of_turn>\n",
      "\n",
      "gemma3\n"
     ]
    }
   ],
   "source": [
    "import os\n",
    "from transformers import AutoTokenizer, AutoConfig\n",
    "\n",
    "\n",
    "model_id = \"google/gemma-3-27b-it\"\n",
    "tokenizer = AutoTokenizer.from_pretrained(model_id, add_bos_token=False)\n",
    "\n",
    "chat = [{\"role\": \"system\", \"content\": \"prompt\"}, {\"role\": \"user\", \"content\": \"qwe\"}, {\"role\": \"assistant\", \"content\": \"zxc\"}]\n",
    "\n",
    "res = tokenizer.apply_chat_template(chat, tokenize=False)\n",
    "print(res)\n",
    "\n",
    "# print(tokenizer.bos_token)\n",
    "# print(tokenizer.eos_token)\n",
    "config = AutoConfig.from_pretrained(model_id)\n",
    "print(config.model_type)\n",
    "\n"
   ]
  }
 ],
 "metadata": {
  "kernelspec": {
   "display_name": "tuningtron-gpu",
   "language": "python",
   "name": "tuningtron-gpu"
  },
  "language_info": {
   "codemirror_mode": {
    "name": "ipython",
    "version": 3
   },
   "file_extension": ".py",
   "mimetype": "text/x-python",
   "name": "python",
   "nbconvert_exporter": "python",
   "pygments_lexer": "ipython3",
   "version": "3.11.11"
  }
 },
 "nbformat": 4,
 "nbformat_minor": 5
}
