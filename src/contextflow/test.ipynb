{
 "cells": [
  {
   "cell_type": "code",
   "execution_count": 8,
   "id": "61110e7b-a372-4482-b586-e7ac3e804cf8",
   "metadata": {
    "execution": {
     "iopub.execute_input": "2025-03-02T15:12:03.769570Z",
     "iopub.status.busy": "2025-03-02T15:12:03.768445Z",
     "iopub.status.idle": "2025-03-02T15:12:04.786333Z",
     "shell.execute_reply": "2025-03-02T15:12:04.785613Z",
     "shell.execute_reply.started": "2025-03-02T15:12:03.769523Z"
    }
   },
   "outputs": [
    {
     "name": "stdout",
     "output_type": "stream",
     "text": [
      "<｜begin▁of▁sentence｜>s\n",
      "<｜begin▁of▁sentence｜>\n",
      "<｜end▁of▁sentence｜>\n",
      "qihoo360/TinyR1-32B-Preview\n",
      "Qwen2Config {\n",
      "  \"_name_or_path\": \"Qwen/Qwen2.5-7B-Instruct\",\n",
      "  \"architectures\": [\n",
      "    \"Qwen2ForCausalLM\"\n",
      "  ],\n",
      "  \"attention_dropout\": 0.0,\n",
      "  \"bos_token_id\": 151643,\n",
      "  \"eos_token_id\": 151645,\n",
      "  \"hidden_act\": \"silu\",\n",
      "  \"hidden_size\": 3584,\n",
      "  \"initializer_range\": 0.02,\n",
      "  \"intermediate_size\": 18944,\n",
      "  \"max_position_embeddings\": 32768,\n",
      "  \"max_window_layers\": 28,\n",
      "  \"model_type\": \"qwen2\",\n",
      "  \"num_attention_heads\": 28,\n",
      "  \"num_hidden_layers\": 28,\n",
      "  \"num_key_value_heads\": 4,\n",
      "  \"rms_norm_eps\": 1e-06,\n",
      "  \"rope_scaling\": null,\n",
      "  \"rope_theta\": 1000000.0,\n",
      "  \"sliding_window\": null,\n",
      "  \"tie_word_embeddings\": false,\n",
      "  \"torch_dtype\": \"bfloat16\",\n",
      "  \"transformers_version\": \"4.48.0\",\n",
      "  \"use_cache\": true,\n",
      "  \"use_sliding_window\": false,\n",
      "  \"vocab_size\": 152064\n",
      "}\n",
      "\n"
     ]
    }
   ],
   "source": [
    "from transformers import AutoTokenizer, AutoConfig\n",
    "\n",
    "\n",
    "model_id = \"qihoo360/TinyR1-32B-Preview\"\n",
    "tokenizer = AutoTokenizer.from_pretrained(model_id, add_bos_token=False)\n",
    "\n",
    "chat = [{\"role\": \"system\", \"content\": \"s\"}]\n",
    "\n",
    "res = tokenizer.apply_chat_template(chat, tokenize=False)\n",
    "print(res)\n",
    "\n",
    "print(tokenizer.bos_token)\n",
    "print(tokenizer.eos_token)\n",
    "\n",
    "config = AutoConfig.from_pretrained(model_id)\n",
    "print(config.name_or_path)\n",
    "\n",
    "config = AutoConfig.from_pretrained(\"Qwen/Qwen2.5-7B-Instruct\")\n",
    "print(config)\n",
    "\n"
   ]
  }
 ],
 "metadata": {
  "kernelspec": {
   "display_name": "tuningtron-gpu",
   "language": "python",
   "name": "tuningtron-gpu"
  },
  "language_info": {
   "codemirror_mode": {
    "name": "ipython",
    "version": 3
   },
   "file_extension": ".py",
   "mimetype": "text/x-python",
   "name": "python",
   "nbconvert_exporter": "python",
   "pygments_lexer": "ipython3",
   "version": "3.11.11"
  }
 },
 "nbformat": 4,
 "nbformat_minor": 5
}
